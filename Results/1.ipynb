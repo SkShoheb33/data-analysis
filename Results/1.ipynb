{
 "cells": [
  {
   "cell_type": "code",
   "execution_count": null,
   "metadata": {},
   "outputs": [],
   "source": [
    "import numpy as np\n",
    "import pandas as pd"
   ]
  },
  {
   "attachments": {},
   "cell_type": "markdown",
   "metadata": {},
   "source": [
    "1.\tWrite a NumPy program to get the numpy version and show numpy build configuration."
   ]
  },
  {
   "cell_type": "code",
   "execution_count": null,
   "metadata": {},
   "outputs": [],
   "source": [
    "print(np.__version__)\n",
    "print(np.show_config())"
   ]
  },
  {
   "attachments": {},
   "cell_type": "markdown",
   "metadata": {},
   "source": [
    "2.\tWrite a NumPy program to get help on the add function"
   ]
  },
  {
   "cell_type": "code",
   "execution_count": null,
   "metadata": {},
   "outputs": [],
   "source": [
    "print(np.info(np.add))"
   ]
  },
  {
   "attachments": {},
   "cell_type": "markdown",
   "metadata": {},
   "source": [
    "3.\tWrite a NumPy program to test whether none of the elements of a given array is zero."
   ]
  },
  {
   "cell_type": "code",
   "execution_count": null,
   "metadata": {},
   "outputs": [],
   "source": [
    "l = np.array([1,2,3,4,0])\n",
    "if np.array(l):\n",
    "    print(\"The given array dosen't contains zero\")\n",
    "else:\n",
    "    print(\"The given array containes zero\")"
   ]
  },
  {
   "attachments": {},
   "cell_type": "markdown",
   "metadata": {},
   "source": [
    "4.\tWrite a NumPy program to create an array of 10 zeros, 10 ones, 10 fives."
   ]
  },
  {
   "cell_type": "code",
   "execution_count": null,
   "metadata": {},
   "outputs": [],
   "source": [
    "array1 = np.zeros(10)\n",
    "array2 = np.ones(10)\n",
    "array3 = np.ones(10)*5\n",
    "result = np.append(np.append(array1,array2),array3)\n",
    "print(result)"
   ]
  },
  {
   "attachments": {},
   "cell_type": "markdown",
   "metadata": {},
   "source": [
    "5.\tWrite a NumPy program to create an array of all the even integers from 30 to 70."
   ]
  },
  {
   "cell_type": "code",
   "execution_count": null,
   "metadata": {},
   "outputs": [],
   "source": [
    "print(np.arrange(30,71,2))"
   ]
  },
  {
   "attachments": {},
   "cell_type": "markdown",
   "metadata": {},
   "source": [
    "6.\tWrite a NumPy program to create a 3x3 identity matrix."
   ]
  },
  {
   "cell_type": "code",
   "execution_count": null,
   "metadata": {},
   "outputs": [],
   "source": [
    "print(np.identity(3))"
   ]
  },
  {
   "attachments": {},
   "cell_type": "markdown",
   "metadata": {},
   "source": [
    "7.\tWrite a NumPy program to create a vector with values from 0 to 20 and change the sign of the numbers in the range from 9 to 15."
   ]
  },
  {
   "cell_type": "code",
   "execution_count": null,
   "metadata": {},
   "outputs": [],
   "source": [
    "array = np.arrange(21)\n",
    "array[(array>=9)&(array<=15)] *=-1\n",
    "print(array)"
   ]
  },
  {
   "attachments": {},
   "cell_type": "markdown",
   "metadata": {},
   "source": [
    "8.\tWrite a NumPy program to find the number of rows and columns of a given matrix."
   ]
  },
  {
   "cell_type": "code",
   "execution_count": null,
   "metadata": {},
   "outputs": [],
   "source": [
    "array = np.identity(3)\n",
    "print(np.shape(array))"
   ]
  },
  {
   "attachments": {},
   "cell_type": "markdown",
   "metadata": {},
   "source": [
    "9.\tWrite a NumPy program to create a 10x10 matrix, in which the elements on the borders will be equal to 1, and inside 0."
   ]
  },
  {
   "cell_type": "code",
   "execution_count": null,
   "metadata": {},
   "outputs": [],
   "source": [
    "matrix = np.zeros([10,10])\n",
    "matrix[0:,0] = 1\n",
    "matrix[0,0:] = 1\n",
    "matrix[-1,0] = 1\n",
    "matrix[0:,-1] = 1\n",
    "print(matrix)"
   ]
  },
  {
   "attachments": {},
   "cell_type": "markdown",
   "metadata": {},
   "source": [
    "10.\tWrite a NumPy program to compute sum of all elements, sum of each column and sum of each row of a given array."
   ]
  },
  {
   "cell_type": "code",
   "execution_count": null,
   "metadata": {},
   "outputs": [],
   "source": [
    "matrix = np.array([[1,2,3,4,5],[6,7,,8,9,10],[11,12,13,14,15]])\n",
    "print(\"The sum of all elements : \",np.sum(matrix))\n",
    "print(\"Row sum : \",np.sum(matrix,axis=1))\n",
    "print(\"Column sum : \",np.sum(matrix,axis=0))"
   ]
  },
  {
   "attachments": {},
   "cell_type": "markdown",
   "metadata": {},
   "source": [
    "11.\tWrite a NumPy program to convert a given list into an array, then again convert it into a list. Check initial list and final list are equal or not."
   ]
  },
  {
   "cell_type": "code",
   "execution_count": null,
   "metadata": {},
   "outputs": [],
   "source": [
    "l = [1,2,3,4,5]\n",
    "print(l,type(l))\n",
    "l = list(l)\n",
    "print(l,type(l))"
   ]
  },
  {
   "attachments": {},
   "cell_type": "markdown",
   "metadata": {},
   "source": [
    "12.\tWrite a NumPy program to create a 3x3x3 array filled with arbitrary values."
   ]
  },
  {
   "cell_type": "code",
   "execution_count": null,
   "metadata": {},
   "outputs": [],
   "source": [
    "matrix = np.round(np.random.random([3,3,3]))\n",
    "print(matrix)"
   ]
  },
  {
   "attachments": {},
   "cell_type": "markdown",
   "metadata": {},
   "source": [
    "13.\tWrite a NumPy program to create a 5x5 zero matrix with elements on the main diagonal equal to 1, 2, 3, 4, 5."
   ]
  },
  {
   "cell_type": "code",
   "execution_count": null,
   "metadata": {},
   "outputs": [],
   "source": [
    "print(np.diag([1,2,3,4,5]))"
   ]
  },
  {
   "attachments": {},
   "cell_type": "markdown",
   "metadata": {},
   "source": [
    "14.\tWrite a NumPy program to extract all numbers from a given array which are less and greater than a specified number."
   ]
  },
  {
   "cell_type": "code",
   "execution_count": null,
   "metadata": {},
   "outputs": [],
   "source": [
    "array = np.array([np.round(random()*10) for i in range(10)])\n",
    "n1 = int(input(\"Enter lower limit : \"))\n",
    "n2 = int(input(\"Enter upper limit : \"))\n",
    "f1 = array[np.where(array>=n1)]\n",
    "f2 = array[np.where(f1<=n2)]\n",
    "print(f2)"
   ]
  },
  {
   "attachments": {},
   "cell_type": "markdown",
   "metadata": {},
   "source": [
    "15.\tWrite a NumPy program to compute the sum of the diagonal element of a given array."
   ]
  },
  {
   "cell_type": "code",
   "execution_count": null,
   "metadata": {},
   "outputs": [],
   "source": [
    "array = np.array([np.round(random()*10) for i in range(10)])\n",
    "array = np.reshape(4,4)\n",
    "print(array)\n",
    "print(\"The trace of the matrix : \".np.trace(array))"
   ]
  },
  {
   "attachments": {},
   "cell_type": "markdown",
   "metadata": {},
   "source": [
    "16.\tGet the common items between two arrays.\n",
    "a = np.array([1,2,3,2,3,4,3,4,5,6])\n",
    "b = np.array([7,2,10,2,7,4,9,4,9,8])\n",
    "Desired Output:\n",
    "array([2, 4])"
   ]
  },
  {
   "cell_type": "code",
   "execution_count": null,
   "metadata": {},
   "outputs": [],
   "source": [
    "a = np.array([1,2,3,4,5,6,7,8,9])\n",
    "b = np.array([5,6,7,8,9,10,11,12,13])\n",
    "print(np.intersection(a,b))"
   ]
  }
 ],
 "metadata": {
  "language_info": {
   "name": "python"
  },
  "orig_nbformat": 4
 },
 "nbformat": 4,
 "nbformat_minor": 2
}
