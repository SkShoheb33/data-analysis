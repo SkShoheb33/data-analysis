{
 "cells": [
  {
   "cell_type": "code",
   "execution_count": 1,
   "id": "4ae9402a",
   "metadata": {},
   "outputs": [],
   "source": [
    "import numpy as np\n",
    "import pandas as pd"
   ]
  },
  {
   "cell_type": "code",
   "execution_count": 2,
   "id": "ab9109a0",
   "metadata": {},
   "outputs": [
    {
     "data": {
      "text/plain": [
       "0    1\n",
       "1    2\n",
       "2    3\n",
       "3    4\n",
       "4    5\n",
       "dtype: int64"
      ]
     },
     "execution_count": 2,
     "metadata": {},
     "output_type": "execute_result"
    }
   ],
   "source": [
    "data = pd.Series([1,2,3,4,5])\n",
    "data"
   ]
  },
  {
   "cell_type": "code",
   "execution_count": 4,
   "id": "c7a63846",
   "metadata": {},
   "outputs": [
    {
     "data": {
      "text/plain": [
       "[1, 2, 3, 4, 5]"
      ]
     },
     "execution_count": 4,
     "metadata": {},
     "output_type": "execute_result"
    }
   ],
   "source": [
    "data.tolist()"
   ]
  },
  {
   "cell_type": "code",
   "execution_count": 5,
   "id": "dde99a69",
   "metadata": {},
   "outputs": [
    {
     "name": "stdout",
     "output_type": "stream",
     "text": [
      "0     6\n",
      "1     8\n",
      "2    10\n",
      "3    12\n",
      "dtype: int64\n",
      "0   -4\n",
      "1   -4\n",
      "2   -4\n",
      "3   -4\n",
      "dtype: int64\n",
      "0     5\n",
      "1    12\n",
      "2    21\n",
      "3    32\n",
      "dtype: int64\n",
      "0    0.200000\n",
      "1    0.333333\n",
      "2    0.428571\n",
      "3    0.500000\n",
      "dtype: float64\n"
     ]
    }
   ],
   "source": [
    "a = pd.Series([1,2,3,4])\n",
    "b = pd.Series([5,6,7,8])\n",
    "print(a+b)\n",
    "print(a-b)\n",
    "print(a*b)\n",
    "print(a/b)"
   ]
  },
  {
   "cell_type": "code",
   "execution_count": 11,
   "id": "42459a43",
   "metadata": {},
   "outputs": [
    {
     "name": "stdout",
     "output_type": "stream",
     "text": [
      "0    APPLE\n",
      "1     BALL\n",
      "2      CAT\n",
      "dtype: object\n",
      "0    apple\n",
      "1     ball\n",
      "2      cat\n",
      "dtype: object\n",
      "0    5\n",
      "1    4\n",
      "2    3\n",
      "dtype: int64\n"
     ]
    }
   ],
   "source": [
    "arr = pd.Series(['apple','ball','cat'])\n",
    "print(arr.str.upper())\n",
    "print(arr.str.lower())\n",
    "print(arr.str.len())"
   ]
  },
  {
   "cell_type": "code",
   "execution_count": 13,
   "id": "3e44d4ea",
   "metadata": {},
   "outputs": [
    {
     "data": {
      "text/plain": [
       "Index(['apple', 'ball', 'cat'], dtype='object')"
      ]
     },
     "execution_count": 13,
     "metadata": {},
     "output_type": "execute_result"
    }
   ],
   "source": [
    "arr = pd.Index(['   apple   ','  ball  ',' cat  '])\n",
    "arr.str.strip()"
   ]
  },
  {
   "cell_type": "code",
   "execution_count": 42,
   "id": "e51456ea",
   "metadata": {},
   "outputs": [
    {
     "name": "stdout",
     "output_type": "stream",
     "text": [
      "            Name     Father  No.\n",
      "y20cs167  Shoheb  Karimulla  123\n",
      "y20cs164     Ali   Shabbeer  786\n",
      "y20cs162   Akram  Karimulla  420\n"
     ]
    }
   ],
   "source": [
    "data = {'Name':['Shoheb','Ali','Akram'],'Father':['Karimulla','Shabbeer','Karimulla'],'No.':[123,786,420]}\n",
    "label = ['y20cs167','y20cs164','y20cs162']\n",
    "\n",
    "df=pd.DataFrame(data,index=label)\n",
    "print(df)"
   ]
  },
  {
   "cell_type": "code",
   "execution_count": 28,
   "id": "c8d621cd",
   "metadata": {},
   "outputs": [
    {
     "data": {
      "text/plain": [
       "'Akram'"
      ]
     },
     "execution_count": 28,
     "metadata": {},
     "output_type": "execute_result"
    }
   ],
   "source": [
    "df['Name']['y20cs167']"
   ]
  },
  {
   "cell_type": "code",
   "execution_count": 35,
   "id": "991e7265",
   "metadata": {},
   "outputs": [
    {
     "data": {
      "text/plain": [
       "array(['Name', 'Father', 'No.'], dtype=object)"
      ]
     },
     "execution_count": 35,
     "metadata": {},
     "output_type": "execute_result"
    }
   ],
   "source": [
    "df.columns.values"
   ]
  },
  {
   "cell_type": "code",
   "execution_count": 41,
   "id": "cc903624",
   "metadata": {},
   "outputs": [
    {
     "data": {
      "text/html": [
       "<div>\n",
       "<style scoped>\n",
       "    .dataframe tbody tr th:only-of-type {\n",
       "        vertical-align: middle;\n",
       "    }\n",
       "\n",
       "    .dataframe tbody tr th {\n",
       "        vertical-align: top;\n",
       "    }\n",
       "\n",
       "    .dataframe thead th {\n",
       "        text-align: right;\n",
       "    }\n",
       "</style>\n",
       "<table border=\"1\" class=\"dataframe\">\n",
       "  <thead>\n",
       "    <tr style=\"text-align: right;\">\n",
       "      <th></th>\n",
       "      <th>Name</th>\n",
       "      <th>Father</th>\n",
       "      <th>No.</th>\n",
       "    </tr>\n",
       "  </thead>\n",
       "  <tbody>\n",
       "    <tr>\n",
       "      <th>y20cs167</th>\n",
       "      <td>Shoheb</td>\n",
       "      <td>Karimulla</td>\n",
       "      <td>123</td>\n",
       "    </tr>\n",
       "    <tr>\n",
       "      <th>y20cs164</th>\n",
       "      <td>Uday</td>\n",
       "      <td>Shabbeer</td>\n",
       "      <td>786</td>\n",
       "    </tr>\n",
       "    <tr>\n",
       "      <th>y20cs162</th>\n",
       "      <td>Akram</td>\n",
       "      <td>Karimulla</td>\n",
       "      <td>420</td>\n",
       "    </tr>\n",
       "  </tbody>\n",
       "</table>\n",
       "</div>"
      ],
      "text/plain": [
       "            Name     Father  No.\n",
       "y20cs167  Shoheb  Karimulla  123\n",
       "y20cs164    Uday   Shabbeer  786\n",
       "y20cs162   Akram  Karimulla  420"
      ]
     },
     "execution_count": 41,
     "metadata": {},
     "output_type": "execute_result"
    }
   ],
   "source": [
    "df['Name'] = df['Name'].replace('Ali','Uday')\n",
    "df"
   ]
  },
  {
   "cell_type": "code",
   "execution_count": 43,
   "id": "12c4a2c1",
   "metadata": {},
   "outputs": [
    {
     "data": {
      "text/html": [
       "<div>\n",
       "<style scoped>\n",
       "    .dataframe tbody tr th:only-of-type {\n",
       "        vertical-align: middle;\n",
       "    }\n",
       "\n",
       "    .dataframe tbody tr th {\n",
       "        vertical-align: top;\n",
       "    }\n",
       "\n",
       "    .dataframe thead th {\n",
       "        text-align: right;\n",
       "    }\n",
       "</style>\n",
       "<table border=\"1\" class=\"dataframe\">\n",
       "  <thead>\n",
       "    <tr style=\"text-align: right;\">\n",
       "      <th></th>\n",
       "      <th>Name</th>\n",
       "      <th>Father</th>\n",
       "      <th>No.</th>\n",
       "      <th>Grade</th>\n",
       "    </tr>\n",
       "  </thead>\n",
       "  <tbody>\n",
       "    <tr>\n",
       "      <th>y20cs167</th>\n",
       "      <td>Shoheb</td>\n",
       "      <td>Karimulla</td>\n",
       "      <td>123</td>\n",
       "      <td>9.4</td>\n",
       "    </tr>\n",
       "    <tr>\n",
       "      <th>y20cs164</th>\n",
       "      <td>Ali</td>\n",
       "      <td>Shabbeer</td>\n",
       "      <td>786</td>\n",
       "      <td>9.5</td>\n",
       "    </tr>\n",
       "    <tr>\n",
       "      <th>y20cs162</th>\n",
       "      <td>Akram</td>\n",
       "      <td>Karimulla</td>\n",
       "      <td>420</td>\n",
       "      <td>9.2</td>\n",
       "    </tr>\n",
       "  </tbody>\n",
       "</table>\n",
       "</div>"
      ],
      "text/plain": [
       "            Name     Father  No.  Grade\n",
       "y20cs167  Shoheb  Karimulla  123    9.4\n",
       "y20cs164     Ali   Shabbeer  786    9.5\n",
       "y20cs162   Akram  Karimulla  420    9.2"
      ]
     },
     "execution_count": 43,
     "metadata": {},
     "output_type": "execute_result"
    }
   ],
   "source": [
    "df['Grade'] = [9.4,9.5,9.2]\n",
    "df"
   ]
  },
  {
   "cell_type": "code",
   "execution_count": 49,
   "id": "ac40a344",
   "metadata": {},
   "outputs": [
    {
     "name": "stdout",
     "output_type": "stream",
     "text": [
      "            Name     Father  No.\n",
      "y20cs167  Shoheb  Karimulla  123\n",
      "y20cs164     Ali   Shabbeer  786\n",
      "y20cs162   Akram  Karimulla  420\n"
     ]
    }
   ],
   "source": [
    "data = {'Name':['Shoheb','Ali','Akram'],'Father':['Karimulla','Shabbeer','Karimulla'],'No.':[123,786,420]}\n",
    "label = ['y20cs167','y20cs164','y20cs162']\n",
    "\n",
    "df=pd.DataFrame(data,index=label)\n",
    "print(df)"
   ]
  }
 ],
 "metadata": {
  "kernelspec": {
   "display_name": "Python 3 (ipykernel)",
   "language": "python",
   "name": "python3"
  },
  "language_info": {
   "codemirror_mode": {
    "name": "ipython",
    "version": 3
   },
   "file_extension": ".py",
   "mimetype": "text/x-python",
   "name": "python",
   "nbconvert_exporter": "python",
   "pygments_lexer": "ipython3",
   "version": "3.9.7"
  }
 },
 "nbformat": 4,
 "nbformat_minor": 5
}
