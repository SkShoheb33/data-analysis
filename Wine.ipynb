{
 "cells": [
  {
   "cell_type": "code",
   "execution_count": 3,
   "id": "8165109f",
   "metadata": {},
   "outputs": [],
   "source": [
    "import numpy as np\n",
    "import pandas as pd"
   ]
  },
  {
   "cell_type": "code",
   "execution_count": 70,
   "id": "2c8b1861",
   "metadata": {},
   "outputs": [
    {
     "data": {
      "text/plain": [
       "array([['7.4', '0.7', '0', ..., '0.56', '9.4', '5'],\n",
       "       ['7.8', '0.88', '0', ..., '0.68', '9.8', '5'],\n",
       "       ['7.8', '0.76', '0.04', ..., '0.65', '9.8', '5'],\n",
       "       ...,\n",
       "       ['6.3', '0.51', '0.13', ..., '0.75', '11', '6'],\n",
       "       ['5.9', '0.645', '0.12', ..., '0.71', '10.2', '5'],\n",
       "       ['6', '0.31', '0.47', ..., '0.66', '11', '6']], dtype='<U16')"
      ]
     },
     "metadata": {},
     "output_type": "display_data"
    }
   ],
   "source": [
    "#1. Download the dataset winequality-red.csv file( each column is separated  by a semicolon (;)) from the UCI Machine Learning Repository.\n",
    "arr = np.loadtxt(r\"E:\\Downloads\\data-analysis\\winequality-red.csv\",delimiter=\";\", dtype=str,skiprows=1)\n",
    "display(arr)"
   ]
  },
  {
   "cell_type": "code",
   "execution_count": 71,
   "id": "b9ad0bde",
   "metadata": {},
   "outputs": [
    {
     "name": "stdout",
     "output_type": "stream",
     "text": [
      "[[ 7.4    0.7    0.    ...  0.56   9.4    5.   ]\n",
      " [ 7.8    0.88   0.    ...  0.68   9.8    5.   ]\n",
      " [ 7.8    0.76   0.04  ...  0.65   9.8    5.   ]\n",
      " ...\n",
      " [ 6.3    0.51   0.13  ...  0.75  11.     6.   ]\n",
      " [ 5.9    0.645  0.12  ...  0.71  10.2    5.   ]\n",
      " [ 6.     0.31   0.47  ...  0.66  11.     6.   ]]\n"
     ]
    }
   ],
   "source": [
    "#2. Convert it to numPy array, name it as wines (leave the first row of the list) and specify the data type of array as float.\n",
    "wines=arr.astype('float64')\n",
    "print(wines)"
   ]
  },
  {
   "cell_type": "code",
   "execution_count": 72,
   "id": "93481f65",
   "metadata": {},
   "outputs": [
    {
     "data": {
      "text/plain": [
       "(1599, 12)"
      ]
     },
     "execution_count": 72,
     "metadata": {},
     "output_type": "execute_result"
    }
   ],
   "source": [
    "#3. Identify the shape of the array.\n",
    "np.shape(wines)"
   ]
  },
  {
   "cell_type": "code",
   "execution_count": 13,
   "id": "e38baf89",
   "metadata": {},
   "outputs": [
    {
     "data": {
      "text/plain": [
       "2.3"
      ]
     },
     "execution_count": 13,
     "metadata": {},
     "output_type": "execute_result"
    }
   ],
   "source": [
    "#4. Display the element at row 3 and column 4.\n",
    "wines[2,3]"
   ]
  },
  {
   "cell_type": "code",
   "execution_count": 48,
   "id": "ff134589",
   "metadata": {},
   "outputs": [
    {
     "data": {
      "text/plain": [
       "array([1.9, 2.6, 2.3])"
      ]
     },
     "execution_count": 48,
     "metadata": {},
     "output_type": "execute_result"
    }
   ],
   "source": [
    "#5. Display the first three items from the fourth column.\n",
    "wines[:3,3]"
   ]
  },
  {
   "cell_type": "code",
   "execution_count": 19,
   "id": "75c3e56d",
   "metadata": {},
   "outputs": [
    {
     "data": {
      "text/plain": [
       "array([0.  , 0.  , 0.04, ..., 0.13, 0.12, 0.47])"
      ]
     },
     "execution_count": 19,
     "metadata": {},
     "output_type": "execute_result"
    }
   ],
   "source": [
    "#6. Display third column from each row.\n",
    "wines[:,2]"
   ]
  },
  {
   "cell_type": "code",
   "execution_count": 21,
   "id": "35fa3589",
   "metadata": {},
   "outputs": [
    {
     "data": {
      "text/plain": [
       "array([11.2  ,  0.28 ,  0.56 ,  1.9  ,  0.075, 17.   , 60.   ,  0.998,\n",
       "        3.16 ,  0.58 ,  9.8  ,  6.   ])"
      ]
     },
     "execution_count": 21,
     "metadata": {},
     "output_type": "execute_result"
    }
   ],
   "source": [
    "#7. Display fourth row.\n",
    "wines[3,:]"
   ]
  },
  {
   "cell_type": "code",
   "execution_count": 73,
   "id": "92b7be49",
   "metadata": {},
   "outputs": [
    {
     "name": "stdout",
     "output_type": "stream",
     "text": [
      "10.0\n"
     ]
    }
   ],
   "source": [
    "#8. Assign value 10 to 2nd row and 6th column element.\n",
    "wines[1,5] = 10\n",
    "print(wines[1,5])"
   ]
  },
  {
   "cell_type": "code",
   "execution_count": 74,
   "id": "5c6ab0a4",
   "metadata": {},
   "outputs": [
    {
     "name": "stdout",
     "output_type": "stream",
     "text": [
      "[666. 666. 666. ... 666. 666. 666.]\n"
     ]
    }
   ],
   "source": [
    "#9. Take the 10th column from wines array and name that slice as slice_new and assign value 666 to all elements of slice_new\n",
    "slice_new = wines[:,9]\n",
    "slice_new[:] = 666\n",
    "print(slice_new)"
   ]
  },
  {
   "cell_type": "code",
   "execution_count": 75,
   "id": "26fef17f",
   "metadata": {},
   "outputs": [
    {
     "name": "stdout",
     "output_type": "stream",
     "text": [
      "[[7.40e+00 7.00e-01 0.00e+00 ... 6.66e+02 9.40e+00 5.00e+00]\n",
      " [7.80e+00 8.80e-01 0.00e+00 ... 6.66e+02 9.80e+00 5.00e+00]\n",
      " [7.80e+00 7.60e-01 4.00e-02 ... 6.66e+02 9.80e+00 5.00e+00]\n",
      " ...\n",
      " [6.30e+00 5.10e-01 1.30e-01 ... 6.66e+02 1.10e+01 6.00e+00]\n",
      " [5.90e+00 6.45e-01 1.20e-01 ... 6.66e+02 1.02e+01 5.00e+00]\n",
      " [6.00e+00 3.10e-01 4.70e-01 ... 6.66e+02 1.10e+01 6.00e+00]]\n"
     ]
    }
   ],
   "source": [
    "#10. Display wines array.\n",
    "print(wines)"
   ]
  },
  {
   "cell_type": "code",
   "execution_count": 76,
   "id": "5c40da10",
   "metadata": {},
   "outputs": [
    {
     "name": "stdout",
     "output_type": "stream",
     "text": [
      "float64\n",
      "int32\n",
      "[[  7   0   0 ... 666   9   5]\n",
      " [  7   0   0 ... 666   9   5]\n",
      " [  7   0   0 ... 666   9   5]\n",
      " ...\n",
      " [  6   0   0 ... 666  11   6]\n",
      " [  5   0   0 ... 666  10   5]\n",
      " [  6   0   0 ... 666  11   6]]\n"
     ]
    }
   ],
   "source": [
    "#11. Find the data type of wines array and Change the data type to int.\n",
    "print(wines.dtype)\n",
    "wines = wines.astype('int')\n",
    "print(wines.dtype)\n",
    "print(wines)"
   ]
  },
  {
   "cell_type": "code",
   "execution_count": 77,
   "id": "ef04008d",
   "metadata": {},
   "outputs": [
    {
     "name": "stdout",
     "output_type": "stream",
     "text": [
      "[15 15 15 ... 16 15  6]\n"
     ]
    }
   ],
   "source": [
    "#12. Add 10 points to each quality score.\n",
    "wines[:-1] += 10\n",
    "print(wines[:,-1])"
   ]
  },
  {
   "cell_type": "code",
   "execution_count": 78,
   "id": "0ff32d53",
   "metadata": {},
   "outputs": [
    {
     "name": "stdout",
     "output_type": "stream",
     "text": [
      "1402158\n",
      "1402158\n"
     ]
    }
   ],
   "source": [
    "#13. Find the sum of all the elements in an array\n",
    "print(wines.sum())\n",
    "print(sum(sum(wines)))"
   ]
  },
  {
   "cell_type": "code",
   "execution_count": 79,
   "id": "911631e0",
   "metadata": {},
   "outputs": [
    {
     "name": "stdout",
     "output_type": "stream",
     "text": [
      "[  28569   16004   15981   19330   15980   41347   90281   16061   20750\n",
      " 1080914   31949   24992]\n"
     ]
    }
   ],
   "source": [
    "#14. Find the sum of all the values in every column.\n",
    "print(wines.sum(axis = 0))"
   ]
  },
  {
   "cell_type": "code",
   "execution_count": 80,
   "id": "6875b24f",
   "metadata": {},
   "outputs": [
    {
     "name": "stdout",
     "output_type": "stream",
     "text": [
      "[856 889 881 ... 883 887 755]\n"
     ]
    }
   ],
   "source": [
    "#15. Find the sum of all the values in every row.\n",
    "print(wines.sum(axis = 1))"
   ]
  },
  {
   "cell_type": "code",
   "execution_count": 81,
   "id": "7e6c9ad1",
   "metadata": {},
   "outputs": [
    {
     "name": "stdout",
     "output_type": "stream",
     "text": [
      "[30 30 30 ... 32 30 12]\n"
     ]
    }
   ],
   "source": [
    "#16. Add the quality column to itself\n",
    "wines[:,-1] += wines[:,-1]\n",
    "print(wines[:,-1])"
   ]
  },
  {
   "cell_type": "code",
   "execution_count": 82,
   "id": "2b54a944",
   "metadata": {},
   "outputs": [
    {
     "name": "stdout",
     "output_type": "stream",
     "text": [
      "[570 570 570 ... 672 600 132]\n"
     ]
    }
   ],
   "source": [
    "# 17. Multiply alcohol by quality\n",
    "print(wines[:,-2]* wines[:,-1])"
   ]
  },
  {
   "cell_type": "code",
   "execution_count": 83,
   "id": "81e1d94d",
   "metadata": {},
   "outputs": [
    {
     "name": "stdout",
     "output_type": "stream",
     "text": [
      "[[ 17  10  10 ... 676  19  30]\n",
      " [ 17  10  10 ... 676  19  30]\n",
      " [ 17  10  10 ... 676  19  30]\n",
      " ...\n",
      " [ 16  10  10 ... 676  21  32]\n",
      " [ 15  10  10 ... 676  20  30]\n",
      " [  6   0   0 ... 666  11  12]]\n"
     ]
    }
   ],
   "source": [
    "# 18. Display which wines have a quality rating higher than 5.\n",
    "print(wines[wines[:,-1]>5])"
   ]
  },
  {
   "cell_type": "code",
   "execution_count": 84,
   "id": "b6c5cc76",
   "metadata": {},
   "outputs": [
    {
     "name": "stdout",
     "output_type": "stream",
     "text": [
      "[]\n"
     ]
    }
   ],
   "source": [
    "# 19. Check if any wines have a quality rating equal to 10.\n",
    "print(wines[wines[:,-1]==10])"
   ]
  },
  {
   "cell_type": "code",
   "execution_count": 85,
   "id": "59652e87",
   "metadata": {},
   "outputs": [
    {
     "name": "stdout",
     "output_type": "stream",
     "text": [
      "[[ 17  10  10 ... 676  19  30]\n",
      " [ 17  10  10 ... 676  19  30]\n",
      " [ 17  10  10 ... 676  19  30]\n",
      " ...\n",
      " [ 16  10  10 ... 676  21  32]\n",
      " [ 15  10  10 ... 676  20  30]\n",
      " [  6   0   0 ... 666  11  12]]\n"
     ]
    }
   ],
   "source": [
    "# 20. Select rows in wines where the quality is over 7\n",
    "print(wines[wines[:,-1]>7])"
   ]
  },
  {
   "cell_type": "code",
   "execution_count": 86,
   "id": "b9458cdb",
   "metadata": {},
   "outputs": [
    {
     "name": "stdout",
     "output_type": "stream",
     "text": [
      "[[ 17  10  10 ... 676  19  30]\n",
      " [ 17  10  10 ... 676  19  30]\n",
      " [ 17  10  10 ... 676  19  30]\n",
      " ...\n",
      " [ 16  10  10 ... 676  21  32]\n",
      " [ 15  10  10 ... 676  20  30]\n",
      " [  6   0   0 ... 666  11  12]]\n"
     ]
    }
   ],
   "source": [
    "# 21. Display wines with alcohol greater than 10 and quality greater than 7.\n",
    "print(wines[(wines[:,-2]>10) & (wines[:,-1]>7)])"
   ]
  },
  {
   "cell_type": "code",
   "execution_count": 87,
   "id": "c062f5c1",
   "metadata": {},
   "outputs": [
    {
     "name": "stdout",
     "output_type": "stream",
     "text": [
      "(533, 36)\n"
     ]
    }
   ],
   "source": [
    "# 22. Change the shape of wines array.\n",
    "wines = wines.reshape((533,36))\n",
    "print(wines.shape)"
   ]
  }
 ],
 "metadata": {
  "kernelspec": {
   "display_name": "Python 3 (ipykernel)",
   "language": "python",
   "name": "python3"
  },
  "language_info": {
   "codemirror_mode": {
    "name": "ipython",
    "version": 3
   },
   "file_extension": ".py",
   "mimetype": "text/x-python",
   "name": "python",
   "nbconvert_exporter": "python",
   "pygments_lexer": "ipython3",
   "version": "3.11.1"
  }
 },
 "nbformat": 4,
 "nbformat_minor": 5
}
